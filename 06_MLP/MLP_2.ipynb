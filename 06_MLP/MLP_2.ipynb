{
 "cells": [
  {
   "cell_type": "code",
   "execution_count": 127,
   "metadata": {
    "id": "FaadnhbpCcsh"
   },
   "outputs": [],
   "source": [
    "import torch\n",
    "import torch.nn as nn\n",
    "import torch.nn.functional as F\n",
    "import torch.optim as optim\n",
    "from torchvision import datasets, transforms\n",
    "import torch.optim as optim\n",
    "\n",
    "import matplotlib.pyplot as plt\n",
    "import numpy as np"
   ]
  },
  {
   "cell_type": "markdown",
   "metadata": {
    "id": "Ly7lrx-gCuLy"
   },
   "source": [
    "## Dades\n",
    "\n",
    "Emprarem el dataset **Fashion MNIST**, una versió del conegut MNIST creat per l'empresa de venta de roba online _Zalando_. Conté dos conjunts de dades (un d'entrenament i un de test) amb 60000 i 10000 mostres respectivament.\n",
    "\n",
    "Cada un dels elements del dataset és una imatge de 28x28 pixels i pot ser de 10 categories diferents.\n",
    "\n",
    "La cárrega i preparació de les dades segueix la mateixa estructura que quan feiem aprenentatge emprant SVM, afegint una passa més, la creació de subconjunts d'entrenament (també coneguts com _mini-batches_).\n",
    "\n",
    "1. Carrega de dades.\n",
    "2. Estandarització.\n",
    "3. Creació de grups d'entrenament.\n"
   ]
  },
  {
   "cell_type": "code",
   "execution_count": 128,
   "metadata": {
    "id": "PwSoPhjXCvV9"
   },
   "outputs": [],
   "source": [
    "etiquetes = {\n",
    "    0: \"T-Shirt\",\n",
    "    1: \"Trouser\",\n",
    "    2: \"Pullover\",\n",
    "    3: \"Dress\",\n",
    "    4: \"Coat\",\n",
    "    5: \"Sandal\",\n",
    "    6: \"Shirt\",\n",
    "    7: \"Sneaker\",\n",
    "    8: \"Bag\",\n",
    "    9: \"Ankle Boot\",\n",
    "}\n",
    "\n",
    "# Definim una seqüència (composició) de transformacions \n",
    "transform=transforms.Compose([\n",
    "    transforms.ToTensor(),\n",
    "    transforms.Normalize((0.1307,), (0.3081,)) # mitjana, desviacio tipica (precalculats)\n",
    "    ])\n",
    "\n",
    "# Descarregam un dataset ja integrat en la llibreria Pytorch\n",
    "train = datasets.FashionMNIST('../data', train=True, download=True, transform=transform)\n",
    "test = datasets.FashionMNIST('../data', train=False, transform=transform)"
   ]
  },
  {
   "cell_type": "markdown",
   "metadata": {
    "id": "j-vdST97JpfB"
   },
   "source": [
    "Es molt important entendre com és l'estructura dels conjunts que necessitam per fer feina amb la xarxa. "
   ]
  },
  {
   "cell_type": "code",
   "execution_count": 129,
   "metadata": {
    "id": "EHy3Yd6C87Fz"
   },
   "outputs": [],
   "source": [
    "train_batch_size = 64\n",
    "test_batch_size = 100\n",
    "\n",
    "# Transformam les dades en l'estructura necessaria per entrenar una xarxa\n",
    "train_loader = torch.utils.data.DataLoader(train, train_batch_size)\n",
    "test_loader = torch.utils.data.DataLoader(test, test_batch_size)"
   ]
  },
  {
   "cell_type": "markdown",
   "metadata": {
    "id": "tmCCiKz29MOe"
   },
   "source": [
    "\n",
    "A continuació cream un iterador sobre el nostre conjunt d'entrenament, això ens torna un _batch_. Mostram la primera imatge juntament amb la seva etiqueta. Després mostram informació referent al _batch_."
   ]
  },
  {
   "cell_type": "code",
   "execution_count": 130,
   "metadata": {
    "id": "yispMZfr1bJn"
   },
   "outputs": [],
   "source": [
    "iterador =  iter(train_loader) # Un iterador!!"
   ]
  },
  {
   "cell_type": "code",
   "execution_count": 131,
   "metadata": {
    "id": "He-cj6JuFsgr"
   },
   "outputs": [
    {
     "name": "stdout",
     "output_type": "stream",
     "text": [
      "__________________________________________________\n",
      "Feature batch shape: torch.Size([64, 1, 28, 28])\n",
      "Labels batch shape: torch.Size([64])\n"
     ]
    },
    {
     "data": {
      "image/png": "[encoded data removed]",
      "text/plain": [
       "<Figure size 600x400 with 1 Axes>"
      ]
     },
     "metadata": {},
     "output_type": "display_data"
    }
   ],
   "source": [
    "features, labels = next(iterador)\n",
    "\n",
    "\n",
    "image = features.numpy()[0].squeeze()\n",
    "plt.figure(figsize=[6,4])\n",
    "plt.imshow(image,cmap=\"gray\")\n",
    "plt.title(etiquetes[int(labels[0])])\n",
    "# TODO: mostrar una imatge del batch i com a títol posar l'etiqueta.\n",
    "# Extra: mostrar una graella amb tot el batch·\n",
    "\n",
    "print(\"_\"*50)\n",
    "print(f\"Feature batch shape: {features.size()}\")\n",
    "print(f\"Labels batch shape: {labels.size()}\")\n",
    "\n"
   ]
  },
  {
   "cell_type": "markdown",
   "metadata": {
    "id": "s8i4Mg8KuD3r"
   },
   "source": [
    "## Definició de la xarxa\n",
    "Emprant el mòdul `nn` de _Pytorch_ podem definir la nostra pròpia classe. Com a mínim hi definirem dos mètodes:\n",
    "\n",
    "  - Constructor: mètode `__init__` en el que definim les capes de la nostra xarxa.\n",
    "  - `forward`: mètode en el que definim com és el fluxe de la informació. Aquí podem afegir capes no entrenables.\n",
    "\n",
    "La xarxa que heu de crear és una xarxa densa, per tant totes les capes seràn linears: `nn.Linear`. On la darrera capa ha de tenir una dimensionalitat igual al nombre de classes.\n",
    "\n",
    "Com a sortida és recomanable usar la funció _softmax_ que converteix un vector de $K$ nombres reals en una distribució de probabilitat de $K$ possibles resultats. És una generalització de la funció logística a múltiples dimensions, i s'utilitza en regressió logística multinomial. La funció softmax s'utilitza sovint com l'última funció d'activació d'una xarxa neuronal per normalitzar la sortida d'una xarxa a una distribució de probabilitat sobre classes de sortida predites. Es calcula de la següent manera:\n",
    "\n",
    "<img src=\"https://wikimedia.org/api/rest_v1/media/math/render/svg/ab3ef6ba51afd36c1d2baf06540022053b2dca73\"\n",
    "     alt=\"Softmax\"\n",
    "     style=\"float: left; margin-right: 10px;\" />\n",
    "\n",
    "\n",
    "\n"
   ]
  },
  {
   "cell_type": "code",
   "execution_count": 132,
   "metadata": {
    "id": "Bz9rSkjSuF6r"
   },
   "outputs": [],
   "source": [
    "class Net(nn.Module):\n",
    "    def __init__(self):\n",
    "        super(Net, self).__init__()\n",
    "        \n",
    "        self.l1 = nn.Linear(28*28,14*14)\n",
    "        self.l2 = nn.Linear(14*14,7*7)\n",
    "        self.l3 = nn.Linear(7*7,10)\n",
    "        self.relu = nn.ReLU()\n",
    "    def forward(self, x):\n",
    "            \n",
    "        x = torch.flatten(x,1) # TODO: comprovar l'atribut shape de x un cop fet flatten\n",
    "        x = self.l1(x)\n",
    "        x = self.relu(x)\n",
    "        x = self.l2(x)\n",
    "        x = self.relu(x)\n",
    "        x = self.l3(x)\n",
    "        # TODO connectar les capes. El valor de retorn d'una cap és l'entrada de la següent\n",
    "        output = F.softmax(x, dim=1)\n",
    "        return output"
   ]
  },
  {
   "cell_type": "markdown",
   "metadata": {
    "id": "A6ISOL_hCk7g"
   },
   "source": [
    "## Entrenament\n",
    "\n",
    "Les bones pràctiques de programació ens diuen que cal organitzar el codi en funcions. En definirem una per la passa d'entrenament i una altra per la fase de test.\n",
    "\n",
    "En aquesta fase s'ha de definir la funció de pèrdua, recordau que aquesta és la funció que avalua la diferència entre el que ha predit la xarxa i la sortida desitjada. Existeixen múltiples funcions de pèrdua que emprarem segons el problema a resoldre i les seves particularitats. Per exemple en el problema de regressió de la setmana passada vàrem emprar l'error absolut al quadrat (_MSE_).\n",
    "\n",
    "Nosaltres emprarem: **cross entropy** que prové de la teoria de la informació de _Shannon_ i que vé a explicar que l'entropia d'una variable aleatòria és el nivell mitjà d'informació / sorpresa / incertesa\" inherent als possibles resultats d'aquesta variable. La fórmula és la següent:\n",
    "\n",
    "$ LCE = -∑_{i=1}^M t_i \\log(p_i)$\n",
    "\n",
    "On $M$ és el nombre de classes, $t_i$ és un valor binari indicant si l'observació és d'aquesta classe (valor 1 si ho és i valor 0 en cas contrari) i $p_i$ és el resultat de la funció _Softmax_ per aquesta classe."
   ]
  },
  {
   "cell_type": "code",
   "execution_count": 133,
   "metadata": {
    "id": "h9OLtpPzClch"
   },
   "outputs": [],
   "source": [
    "def train(model, device, train_loader, optimizer, epoch, log_interval=100, verbose=True):\n",
    "    \n",
    "    model.train() # Posam la xarxa en mode entrenament\n",
    "\n",
    "    loss_v = 0 # Per calcular la mitjana (és la vostra)\n",
    "\n",
    "    # Bucle per entrenar cada un dels batch\n",
    "    for batch_idx, (data, target) in enumerate(train_loader):\n",
    "    \n",
    "        data, target = data.to(device), target.to(device) \n",
    "\n",
    "        optimizer.zero_grad()\n",
    "        output = model(data)\n",
    "\n",
    "        loss = F.cross_entropy(output,target)\n",
    "        loss.backward()\n",
    "        optimizer.step()\n",
    "\n",
    "        ## Informació de debug\n",
    "        if batch_idx % log_interval == 0 and verbose:\n",
    "            print('Train Epoch: {} [{}/{} ({:.0f}%)]\\tLoss: {:.6f}, Average: {:.6f}'.format(\n",
    "                epoch, batch_idx * len(data), len(train_loader.dataset),\n",
    "                100. * batch_idx / len(train_loader), loss.item(), loss.item()/ len(data)))\n",
    "        loss_v += loss.item()\n",
    "\n",
    "    loss_v /= len(train_loader.dataset)\n",
    "    print('\\nTrain set: Average loss: {:.4f}\\n'.format(loss_v))\n",
    " \n",
    "    return loss_v\n",
    "\n",
    "\n",
    "def test(model, device, test_loader):\n",
    "    model.eval() # Posam la xarxa en mode avaluació\n",
    "\n",
    "    test_loss = 0\n",
    "    correct = 0\n",
    "\n",
    "    with torch.no_grad():\n",
    "        for data, target in test_loader:\n",
    "            data, target = data.to(device), target.to(device)\n",
    "            output = model(data)\n",
    "            test_loss += F.cross_entropy(output,target)\n",
    "            pred = output.argmax(dim=1, keepdim=True)  # index amb la max probabilitat\n",
    "            correct += pred.eq(target.view_as(pred)).sum().item()\n",
    " \n",
    "    # Informació de debug\n",
    "    test_loss /= len(test_loader.dataset)\n",
    "\n",
    "    print('\\nTest set: Average loss: {:.4f}, Accuracy: {}/{} ({:.0f}%)\\n'.format(\n",
    "        test_loss, correct, len(test_loader.dataset),\n",
    "        100. * correct / len(test_loader.dataset)))\n",
    "    \n",
    "    return test_loss"
   ]
  },
  {
   "cell_type": "markdown",
   "metadata": {
    "id": "RBGKL43vsUnD"
   },
   "source": [
    "A continuació definim els paràmetres d'entrenament i el bucle principal:"
   ]
  },
  {
   "cell_type": "code",
   "execution_count": 134,
   "metadata": {
    "id": "cNIBWqAwsVSb"
   },
   "outputs": [
    {
     "name": "stdout",
     "output_type": "stream",
     "text": [
      "Train Epoch: 0 [0/60000 (0%)]\tLoss: 2.301336, Average: 0.035958\n",
      "Train Epoch: 0 [6400/60000 (11%)]\tLoss: 2.297276, Average: 0.035895\n",
      "Train Epoch: 0 [12800/60000 (21%)]\tLoss: 2.287128, Average: 0.035736\n",
      "Train Epoch: 0 [19200/60000 (32%)]\tLoss: 2.282120, Average: 0.035658\n",
      "Train Epoch: 0 [25600/60000 (43%)]\tLoss: 2.242531, Average: 0.035040\n",
      "Train Epoch: 0 [32000/60000 (53%)]\tLoss: 2.178586, Average: 0.034040\n",
      "Train Epoch: 0 [38400/60000 (64%)]\tLoss: 2.196684, Average: 0.034323\n",
      "Train Epoch: 0 [44800/60000 (75%)]\tLoss: 2.120987, Average: 0.033140\n",
      "Train Epoch: 0 [51200/60000 (85%)]\tLoss: 2.082247, Average: 0.032535\n",
      "Train Epoch: 0 [57600/60000 (96%)]\tLoss: 1.942693, Average: 0.030355\n",
      "\n",
      "Train set: Average loss: 0.0343\n",
      "\n",
      "\n",
      "Test set: Average loss: 0.0197, Accuracy: 5611/10000 (56%)\n",
      "\n",
      "Train Epoch: 1 [0/60000 (0%)]\tLoss: 2.052661, Average: 0.032073\n",
      "Train Epoch: 1 [6400/60000 (11%)]\tLoss: 1.964893, Average: 0.030701\n",
      "Train Epoch: 1 [12800/60000 (21%)]\tLoss: 1.895906, Average: 0.029624\n",
      "Train Epoch: 1 [19200/60000 (32%)]\tLoss: 1.917894, Average: 0.029967\n",
      "Train Epoch: 1 [25600/60000 (43%)]\tLoss: 1.857515, Average: 0.029024\n",
      "Train Epoch: 1 [32000/60000 (53%)]\tLoss: 1.856521, Average: 0.029008\n",
      "Train Epoch: 1 [38400/60000 (64%)]\tLoss: 1.880756, Average: 0.029387\n",
      "Train Epoch: 1 [44800/60000 (75%)]\tLoss: 1.872315, Average: 0.029255\n",
      "Train Epoch: 1 [51200/60000 (85%)]\tLoss: 1.863989, Average: 0.029125\n",
      "Train Epoch: 1 [57600/60000 (96%)]\tLoss: 1.806796, Average: 0.028231\n",
      "\n",
      "Train set: Average loss: 0.0294\n",
      "\n",
      "\n",
      "Test set: Average loss: 0.0184, Accuracy: 6345/10000 (63%)\n",
      "\n",
      "Train Epoch: 2 [0/60000 (0%)]\tLoss: 1.893510, Average: 0.029586\n",
      "Train Epoch: 2 [6400/60000 (11%)]\tLoss: 1.873685, Average: 0.029276\n",
      "Train Epoch: 2 [12800/60000 (21%)]\tLoss: 1.799730, Average: 0.028121\n",
      "Train Epoch: 2 [19200/60000 (32%)]\tLoss: 1.838517, Average: 0.028727\n",
      "Train Epoch: 2 [25600/60000 (43%)]\tLoss: 1.805897, Average: 0.028217\n",
      "Train Epoch: 2 [32000/60000 (53%)]\tLoss: 1.819955, Average: 0.028437\n",
      "Train Epoch: 2 [38400/60000 (64%)]\tLoss: 1.838260, Average: 0.028723\n",
      "Train Epoch: 2 [44800/60000 (75%)]\tLoss: 1.828091, Average: 0.028564\n",
      "Train Epoch: 2 [51200/60000 (85%)]\tLoss: 1.808028, Average: 0.028250\n",
      "Train Epoch: 2 [57600/60000 (96%)]\tLoss: 1.794281, Average: 0.028036\n",
      "\n",
      "Train set: Average loss: 0.0285\n",
      "\n",
      "\n",
      "Test set: Average loss: 0.0180, Accuracy: 6954/10000 (70%)\n",
      "\n",
      "Train Epoch: 3 [0/60000 (0%)]\tLoss: 1.819537, Average: 0.028430\n",
      "Train Epoch: 3 [6400/60000 (11%)]\tLoss: 1.811438, Average: 0.028304\n",
      "Train Epoch: 3 [12800/60000 (21%)]\tLoss: 1.740332, Average: 0.027193\n",
      "Train Epoch: 3 [19200/60000 (32%)]\tLoss: 1.796991, Average: 0.028078\n",
      "Train Epoch: 3 [25600/60000 (43%)]\tLoss: 1.771075, Average: 0.027673\n",
      "Train Epoch: 3 [32000/60000 (53%)]\tLoss: 1.776680, Average: 0.027761\n",
      "Train Epoch: 3 [38400/60000 (64%)]\tLoss: 1.802074, Average: 0.028157\n",
      "Train Epoch: 3 [44800/60000 (75%)]\tLoss: 1.791600, Average: 0.027994\n",
      "Train Epoch: 3 [51200/60000 (85%)]\tLoss: 1.778562, Average: 0.027790\n",
      "Train Epoch: 3 [57600/60000 (96%)]\tLoss: 1.757055, Average: 0.027454\n",
      "\n",
      "Train set: Average loss: 0.0277\n",
      "\n",
      "\n",
      "Test set: Average loss: 0.0175, Accuracy: 7250/10000 (72%)\n",
      "\n",
      "Train Epoch: 4 [0/60000 (0%)]\tLoss: 1.734829, Average: 0.027107\n",
      "Train Epoch: 4 [6400/60000 (11%)]\tLoss: 1.765306, Average: 0.027583\n",
      "Train Epoch: 4 [12800/60000 (21%)]\tLoss: 1.675630, Average: 0.026182\n",
      "Train Epoch: 4 [19200/60000 (32%)]\tLoss: 1.769740, Average: 0.027652\n",
      "Train Epoch: 4 [25600/60000 (43%)]\tLoss: 1.740379, Average: 0.027193\n",
      "Train Epoch: 4 [32000/60000 (53%)]\tLoss: 1.759167, Average: 0.027487\n",
      "Train Epoch: 4 [38400/60000 (64%)]\tLoss: 1.777299, Average: 0.027770\n",
      "Train Epoch: 4 [44800/60000 (75%)]\tLoss: 1.772022, Average: 0.027688\n",
      "Train Epoch: 4 [51200/60000 (85%)]\tLoss: 1.783318, Average: 0.027864\n",
      "Train Epoch: 4 [57600/60000 (96%)]\tLoss: 1.746638, Average: 0.027291\n",
      "\n",
      "Train set: Average loss: 0.0272\n",
      "\n",
      "\n",
      "Test set: Average loss: 0.0173, Accuracy: 7480/10000 (75%)\n",
      "\n",
      "Train Epoch: 5 [0/60000 (0%)]\tLoss: 1.693070, Average: 0.026454\n",
      "Train Epoch: 5 [6400/60000 (11%)]\tLoss: 1.744435, Average: 0.027257\n",
      "Train Epoch: 5 [12800/60000 (21%)]\tLoss: 1.657640, Average: 0.025901\n",
      "Train Epoch: 5 [19200/60000 (32%)]\tLoss: 1.758781, Average: 0.027481\n",
      "Train Epoch: 5 [25600/60000 (43%)]\tLoss: 1.717987, Average: 0.026844\n",
      "Train Epoch: 5 [32000/60000 (53%)]\tLoss: 1.754918, Average: 0.027421\n",
      "Train Epoch: 5 [38400/60000 (64%)]\tLoss: 1.760735, Average: 0.027511\n",
      "Train Epoch: 5 [44800/60000 (75%)]\tLoss: 1.763826, Average: 0.027560\n",
      "Train Epoch: 5 [51200/60000 (85%)]\tLoss: 1.783355, Average: 0.027865\n",
      "Train Epoch: 5 [57600/60000 (96%)]\tLoss: 1.742812, Average: 0.027231\n",
      "\n",
      "Train set: Average loss: 0.0269\n",
      "\n",
      "\n",
      "Test set: Average loss: 0.0172, Accuracy: 7557/10000 (76%)\n",
      "\n",
      "Train Epoch: 6 [0/60000 (0%)]\tLoss: 1.681383, Average: 0.026272\n",
      "Train Epoch: 6 [6400/60000 (11%)]\tLoss: 1.727062, Average: 0.026985\n",
      "Train Epoch: 6 [12800/60000 (21%)]\tLoss: 1.651751, Average: 0.025809\n",
      "Train Epoch: 6 [19200/60000 (32%)]\tLoss: 1.752380, Average: 0.027381\n",
      "Train Epoch: 6 [25600/60000 (43%)]\tLoss: 1.703025, Average: 0.026610\n",
      "Train Epoch: 6 [32000/60000 (53%)]\tLoss: 1.749475, Average: 0.027336\n",
      "Train Epoch: 6 [38400/60000 (64%)]\tLoss: 1.745688, Average: 0.027276\n",
      "Train Epoch: 6 [44800/60000 (75%)]\tLoss: 1.758249, Average: 0.027473\n",
      "Train Epoch: 6 [51200/60000 (85%)]\tLoss: 1.781118, Average: 0.027830\n",
      "Train Epoch: 6 [57600/60000 (96%)]\tLoss: 1.739813, Average: 0.027185\n",
      "\n",
      "Train set: Average loss: 0.0267\n",
      "\n",
      "\n",
      "Test set: Average loss: 0.0171, Accuracy: 7604/10000 (76%)\n",
      "\n",
      "Train Epoch: 7 [0/60000 (0%)]\tLoss: 1.675732, Average: 0.026183\n",
      "Train Epoch: 7 [6400/60000 (11%)]\tLoss: 1.712648, Average: 0.026760\n",
      "Train Epoch: 7 [12800/60000 (21%)]\tLoss: 1.646074, Average: 0.025720\n",
      "Train Epoch: 7 [19200/60000 (32%)]\tLoss: 1.745223, Average: 0.027269\n",
      "Train Epoch: 7 [25600/60000 (43%)]\tLoss: 1.691953, Average: 0.026437\n",
      "Train Epoch: 7 [32000/60000 (53%)]\tLoss: 1.744679, Average: 0.027261\n",
      "Train Epoch: 7 [38400/60000 (64%)]\tLoss: 1.732745, Average: 0.027074\n",
      "Train Epoch: 7 [44800/60000 (75%)]\tLoss: 1.753483, Average: 0.027398\n",
      "Train Epoch: 7 [51200/60000 (85%)]\tLoss: 1.778527, Average: 0.027789\n",
      "Train Epoch: 7 [57600/60000 (96%)]\tLoss: 1.736427, Average: 0.027132\n",
      "\n",
      "Train set: Average loss: 0.0266\n",
      "\n",
      "\n",
      "Test set: Average loss: 0.0171, Accuracy: 7644/10000 (76%)\n",
      "\n",
      "Train Epoch: 8 [0/60000 (0%)]\tLoss: 1.672182, Average: 0.026128\n",
      "Train Epoch: 8 [6400/60000 (11%)]\tLoss: 1.700908, Average: 0.026577\n",
      "Train Epoch: 8 [12800/60000 (21%)]\tLoss: 1.640140, Average: 0.025627\n",
      "Train Epoch: 8 [19200/60000 (32%)]\tLoss: 1.737131, Average: 0.027143\n",
      "Train Epoch: 8 [25600/60000 (43%)]\tLoss: 1.682434, Average: 0.026288\n",
      "Train Epoch: 8 [32000/60000 (53%)]\tLoss: 1.741058, Average: 0.027204\n",
      "Train Epoch: 8 [38400/60000 (64%)]\tLoss: 1.722856, Average: 0.026920\n",
      "Train Epoch: 8 [44800/60000 (75%)]\tLoss: 1.749923, Average: 0.027343\n",
      "Train Epoch: 8 [51200/60000 (85%)]\tLoss: 1.775548, Average: 0.027743\n",
      "Train Epoch: 8 [57600/60000 (96%)]\tLoss: 1.732921, Average: 0.027077\n",
      "\n",
      "Train set: Average loss: 0.0265\n",
      "\n",
      "\n",
      "Test set: Average loss: 0.0170, Accuracy: 7653/10000 (77%)\n",
      "\n",
      "Train Epoch: 9 [0/60000 (0%)]\tLoss: 1.669076, Average: 0.026079\n",
      "Train Epoch: 9 [6400/60000 (11%)]\tLoss: 1.692949, Average: 0.026452\n",
      "Train Epoch: 9 [12800/60000 (21%)]\tLoss: 1.634729, Average: 0.025543\n",
      "Train Epoch: 9 [19200/60000 (32%)]\tLoss: 1.729330, Average: 0.027021\n",
      "Train Epoch: 9 [25600/60000 (43%)]\tLoss: 1.674923, Average: 0.026171\n",
      "Train Epoch: 9 [32000/60000 (53%)]\tLoss: 1.738276, Average: 0.027161\n",
      "Train Epoch: 9 [38400/60000 (64%)]\tLoss: 1.715247, Average: 0.026801\n",
      "Train Epoch: 9 [44800/60000 (75%)]\tLoss: 1.747382, Average: 0.027303\n",
      "Train Epoch: 9 [51200/60000 (85%)]\tLoss: 1.771780, Average: 0.027684\n",
      "Train Epoch: 9 [57600/60000 (96%)]\tLoss: 1.729737, Average: 0.027027\n",
      "\n",
      "Train set: Average loss: 0.0264\n",
      "\n",
      "\n",
      "Test set: Average loss: 0.0170, Accuracy: 7682/10000 (77%)\n",
      "\n",
      "Train Epoch: 10 [0/60000 (0%)]\tLoss: 1.665891, Average: 0.026030\n",
      "Train Epoch: 10 [6400/60000 (11%)]\tLoss: 1.687673, Average: 0.026370\n",
      "Train Epoch: 10 [12800/60000 (21%)]\tLoss: 1.630106, Average: 0.025470\n",
      "Train Epoch: 10 [19200/60000 (32%)]\tLoss: 1.722237, Average: 0.026910\n",
      "Train Epoch: 10 [25600/60000 (43%)]\tLoss: 1.668711, Average: 0.026074\n",
      "Train Epoch: 10 [32000/60000 (53%)]\tLoss: 1.736169, Average: 0.027128\n"
     ]
    },
    {
     "name": "stdout",
     "output_type": "stream",
     "text": [
      "Train Epoch: 10 [38400/60000 (64%)]\tLoss: 1.708413, Average: 0.026694\n",
      "Train Epoch: 10 [44800/60000 (75%)]\tLoss: 1.745694, Average: 0.027276\n",
      "Train Epoch: 10 [51200/60000 (85%)]\tLoss: 1.767514, Average: 0.027617\n",
      "Train Epoch: 10 [57600/60000 (96%)]\tLoss: 1.726157, Average: 0.026971\n",
      "\n",
      "Train set: Average loss: 0.0264\n",
      "\n",
      "\n",
      "Test set: Average loss: 0.0170, Accuracy: 7702/10000 (77%)\n",
      "\n",
      "Train Epoch: 11 [0/60000 (0%)]\tLoss: 1.662372, Average: 0.025975\n",
      "Train Epoch: 11 [6400/60000 (11%)]\tLoss: 1.683737, Average: 0.026308\n",
      "Train Epoch: 11 [12800/60000 (21%)]\tLoss: 1.626538, Average: 0.025415\n",
      "Train Epoch: 11 [19200/60000 (32%)]\tLoss: 1.716190, Average: 0.026815\n",
      "Train Epoch: 11 [25600/60000 (43%)]\tLoss: 1.662801, Average: 0.025981\n",
      "Train Epoch: 11 [32000/60000 (53%)]\tLoss: 1.734515, Average: 0.027102\n",
      "Train Epoch: 11 [38400/60000 (64%)]\tLoss: 1.700455, Average: 0.026570\n",
      "Train Epoch: 11 [44800/60000 (75%)]\tLoss: 1.744225, Average: 0.027254\n",
      "Train Epoch: 11 [51200/60000 (85%)]\tLoss: 1.762511, Average: 0.027539\n",
      "Train Epoch: 11 [57600/60000 (96%)]\tLoss: 1.721833, Average: 0.026904\n",
      "\n",
      "Train set: Average loss: 0.0263\n",
      "\n",
      "\n",
      "Test set: Average loss: 0.0169, Accuracy: 7719/10000 (77%)\n",
      "\n",
      "Train Epoch: 12 [0/60000 (0%)]\tLoss: 1.658608, Average: 0.025916\n",
      "Train Epoch: 12 [6400/60000 (11%)]\tLoss: 1.680539, Average: 0.026258\n",
      "Train Epoch: 12 [12800/60000 (21%)]\tLoss: 1.623606, Average: 0.025369\n",
      "Train Epoch: 12 [19200/60000 (32%)]\tLoss: 1.711562, Average: 0.026743\n",
      "Train Epoch: 12 [25600/60000 (43%)]\tLoss: 1.657068, Average: 0.025892\n",
      "Train Epoch: 12 [32000/60000 (53%)]\tLoss: 1.733238, Average: 0.027082\n",
      "Train Epoch: 12 [38400/60000 (64%)]\tLoss: 1.691122, Average: 0.026424\n",
      "Train Epoch: 12 [44800/60000 (75%)]\tLoss: 1.742798, Average: 0.027231\n",
      "Train Epoch: 12 [51200/60000 (85%)]\tLoss: 1.757553, Average: 0.027462\n",
      "Train Epoch: 12 [57600/60000 (96%)]\tLoss: 1.716704, Average: 0.026824\n",
      "\n",
      "Train set: Average loss: 0.0263\n",
      "\n",
      "\n",
      "Test set: Average loss: 0.0169, Accuracy: 7746/10000 (77%)\n",
      "\n",
      "Train Epoch: 13 [0/60000 (0%)]\tLoss: 1.655157, Average: 0.025862\n",
      "Train Epoch: 13 [6400/60000 (11%)]\tLoss: 1.677299, Average: 0.026208\n",
      "Train Epoch: 13 [12800/60000 (21%)]\tLoss: 1.621040, Average: 0.025329\n",
      "Train Epoch: 13 [19200/60000 (32%)]\tLoss: 1.707495, Average: 0.026680\n",
      "Train Epoch: 13 [25600/60000 (43%)]\tLoss: 1.651246, Average: 0.025801\n",
      "Train Epoch: 13 [32000/60000 (53%)]\tLoss: 1.731879, Average: 0.027061\n",
      "Train Epoch: 13 [38400/60000 (64%)]\tLoss: 1.682105, Average: 0.026283\n",
      "Train Epoch: 13 [44800/60000 (75%)]\tLoss: 1.741402, Average: 0.027209\n",
      "Train Epoch: 13 [51200/60000 (85%)]\tLoss: 1.752957, Average: 0.027390\n",
      "Train Epoch: 13 [57600/60000 (96%)]\tLoss: 1.711241, Average: 0.026738\n",
      "\n",
      "Train set: Average loss: 0.0262\n",
      "\n",
      "\n",
      "Test set: Average loss: 0.0169, Accuracy: 7764/10000 (78%)\n",
      "\n",
      "Train Epoch: 14 [0/60000 (0%)]\tLoss: 1.652058, Average: 0.025813\n",
      "Train Epoch: 14 [6400/60000 (11%)]\tLoss: 1.674021, Average: 0.026157\n",
      "Train Epoch: 14 [12800/60000 (21%)]\tLoss: 1.618658, Average: 0.025292\n",
      "Train Epoch: 14 [19200/60000 (32%)]\tLoss: 1.704056, Average: 0.026626\n",
      "Train Epoch: 14 [25600/60000 (43%)]\tLoss: 1.645812, Average: 0.025716\n",
      "Train Epoch: 14 [32000/60000 (53%)]\tLoss: 1.730369, Average: 0.027037\n",
      "Train Epoch: 14 [38400/60000 (64%)]\tLoss: 1.675336, Average: 0.026177\n",
      "Train Epoch: 14 [44800/60000 (75%)]\tLoss: 1.739975, Average: 0.027187\n",
      "Train Epoch: 14 [51200/60000 (85%)]\tLoss: 1.747856, Average: 0.027310\n",
      "Train Epoch: 14 [57600/60000 (96%)]\tLoss: 1.705712, Average: 0.026652\n",
      "\n",
      "Train set: Average loss: 0.0262\n",
      "\n",
      "\n",
      "Test set: Average loss: 0.0169, Accuracy: 7784/10000 (78%)\n",
      "\n",
      "Train Epoch: 15 [0/60000 (0%)]\tLoss: 1.649033, Average: 0.025766\n",
      "Train Epoch: 15 [6400/60000 (11%)]\tLoss: 1.670770, Average: 0.026106\n",
      "Train Epoch: 15 [12800/60000 (21%)]\tLoss: 1.616553, Average: 0.025259\n",
      "Train Epoch: 15 [19200/60000 (32%)]\tLoss: 1.701082, Average: 0.026579\n",
      "Train Epoch: 15 [25600/60000 (43%)]\tLoss: 1.640321, Average: 0.025630\n",
      "Train Epoch: 15 [32000/60000 (53%)]\tLoss: 1.728622, Average: 0.027010\n",
      "Train Epoch: 15 [38400/60000 (64%)]\tLoss: 1.670270, Average: 0.026098\n",
      "Train Epoch: 15 [44800/60000 (75%)]\tLoss: 1.738503, Average: 0.027164\n",
      "Train Epoch: 15 [51200/60000 (85%)]\tLoss: 1.742265, Average: 0.027223\n",
      "Train Epoch: 15 [57600/60000 (96%)]\tLoss: 1.699995, Average: 0.026562\n",
      "\n",
      "Train set: Average loss: 0.0262\n",
      "\n",
      "\n",
      "Test set: Average loss: 0.0169, Accuracy: 7794/10000 (78%)\n",
      "\n",
      "Train Epoch: 16 [0/60000 (0%)]\tLoss: 1.645706, Average: 0.025714\n",
      "Train Epoch: 16 [6400/60000 (11%)]\tLoss: 1.667830, Average: 0.026060\n",
      "Train Epoch: 16 [12800/60000 (21%)]\tLoss: 1.614688, Average: 0.025229\n"
     ]
    },
    {
     "ename": "KeyboardInterrupt",
     "evalue": "",
     "output_type": "error",
     "traceback": [
      "\u001b[1;31m---------------------------------------------------------------------------\u001b[0m",
      "\u001b[1;31mKeyboardInterrupt\u001b[0m                         Traceback (most recent call last)",
      "Input \u001b[1;32mIn [134]\u001b[0m, in \u001b[0;36m<cell line: 24>\u001b[1;34m()\u001b[0m\n\u001b[0;32m     23\u001b[0m \u001b[38;5;66;03m# Bucle d'entrenament\u001b[39;00m\n\u001b[0;32m     24\u001b[0m \u001b[38;5;28;01mfor\u001b[39;00m epoch \u001b[38;5;129;01min\u001b[39;00m \u001b[38;5;28mrange\u001b[39m(\u001b[38;5;241m0\u001b[39m, epochs):\n\u001b[1;32m---> 25\u001b[0m     train_l[epoch] \u001b[38;5;241m=\u001b[39m \u001b[43mtrain\u001b[49m\u001b[43m(\u001b[49m\u001b[43mmodel\u001b[49m\u001b[43m,\u001b[49m\u001b[43m \u001b[49m\u001b[43mdevice\u001b[49m\u001b[43m,\u001b[49m\u001b[43m \u001b[49m\u001b[43mtrain_loader\u001b[49m\u001b[43m,\u001b[49m\u001b[43m \u001b[49m\u001b[43moptimizer\u001b[49m\u001b[43m,\u001b[49m\u001b[43m \u001b[49m\u001b[43mepoch\u001b[49m\u001b[43m)\u001b[49m\n\u001b[0;32m     26\u001b[0m     test_l[epoch]  \u001b[38;5;241m=\u001b[39m test(model, device, test_loader)\n",
      "Input \u001b[1;32mIn [133]\u001b[0m, in \u001b[0;36mtrain\u001b[1;34m(model, device, train_loader, optimizer, epoch, log_interval, verbose)\u001b[0m\n\u001b[0;32m      5\u001b[0m loss_v \u001b[38;5;241m=\u001b[39m \u001b[38;5;241m0\u001b[39m \u001b[38;5;66;03m# Per calcular la mitjana (és la vostra)\u001b[39;00m\n\u001b[0;32m      7\u001b[0m \u001b[38;5;66;03m# Bucle per entrenar cada un dels batch\u001b[39;00m\n\u001b[1;32m----> 8\u001b[0m \u001b[38;5;28;01mfor\u001b[39;00m batch_idx, (data, target) \u001b[38;5;129;01min\u001b[39;00m \u001b[38;5;28menumerate\u001b[39m(train_loader):\n\u001b[0;32m     10\u001b[0m     data, target \u001b[38;5;241m=\u001b[39m data\u001b[38;5;241m.\u001b[39mto(device), target\u001b[38;5;241m.\u001b[39mto(device) \n\u001b[0;32m     12\u001b[0m     optimizer\u001b[38;5;241m.\u001b[39mzero_grad()\n",
      "File \u001b[1;32m~\\.conda\\envs\\pyAA\\lib\\site-packages\\torch\\utils\\data\\dataloader.py:628\u001b[0m, in \u001b[0;36m_BaseDataLoaderIter.__next__\u001b[1;34m(self)\u001b[0m\n\u001b[0;32m    625\u001b[0m \u001b[38;5;28;01mif\u001b[39;00m \u001b[38;5;28mself\u001b[39m\u001b[38;5;241m.\u001b[39m_sampler_iter \u001b[38;5;129;01mis\u001b[39;00m \u001b[38;5;28;01mNone\u001b[39;00m:\n\u001b[0;32m    626\u001b[0m     \u001b[38;5;66;03m# TODO(https://github.com/pytorch/pytorch/issues/76750)\u001b[39;00m\n\u001b[0;32m    627\u001b[0m     \u001b[38;5;28mself\u001b[39m\u001b[38;5;241m.\u001b[39m_reset()  \u001b[38;5;66;03m# type: ignore[call-arg]\u001b[39;00m\n\u001b[1;32m--> 628\u001b[0m data \u001b[38;5;241m=\u001b[39m \u001b[38;5;28;43mself\u001b[39;49m\u001b[38;5;241;43m.\u001b[39;49m\u001b[43m_next_data\u001b[49m\u001b[43m(\u001b[49m\u001b[43m)\u001b[49m\n\u001b[0;32m    629\u001b[0m \u001b[38;5;28mself\u001b[39m\u001b[38;5;241m.\u001b[39m_num_yielded \u001b[38;5;241m+\u001b[39m\u001b[38;5;241m=\u001b[39m \u001b[38;5;241m1\u001b[39m\n\u001b[0;32m    630\u001b[0m \u001b[38;5;28;01mif\u001b[39;00m \u001b[38;5;28mself\u001b[39m\u001b[38;5;241m.\u001b[39m_dataset_kind \u001b[38;5;241m==\u001b[39m _DatasetKind\u001b[38;5;241m.\u001b[39mIterable \u001b[38;5;129;01mand\u001b[39;00m \\\n\u001b[0;32m    631\u001b[0m         \u001b[38;5;28mself\u001b[39m\u001b[38;5;241m.\u001b[39m_IterableDataset_len_called \u001b[38;5;129;01mis\u001b[39;00m \u001b[38;5;129;01mnot\u001b[39;00m \u001b[38;5;28;01mNone\u001b[39;00m \u001b[38;5;129;01mand\u001b[39;00m \\\n\u001b[0;32m    632\u001b[0m         \u001b[38;5;28mself\u001b[39m\u001b[38;5;241m.\u001b[39m_num_yielded \u001b[38;5;241m>\u001b[39m \u001b[38;5;28mself\u001b[39m\u001b[38;5;241m.\u001b[39m_IterableDataset_len_called:\n",
      "File \u001b[1;32m~\\.conda\\envs\\pyAA\\lib\\site-packages\\torch\\utils\\data\\dataloader.py:671\u001b[0m, in \u001b[0;36m_SingleProcessDataLoaderIter._next_data\u001b[1;34m(self)\u001b[0m\n\u001b[0;32m    669\u001b[0m \u001b[38;5;28;01mdef\u001b[39;00m \u001b[38;5;21m_next_data\u001b[39m(\u001b[38;5;28mself\u001b[39m):\n\u001b[0;32m    670\u001b[0m     index \u001b[38;5;241m=\u001b[39m \u001b[38;5;28mself\u001b[39m\u001b[38;5;241m.\u001b[39m_next_index()  \u001b[38;5;66;03m# may raise StopIteration\u001b[39;00m\n\u001b[1;32m--> 671\u001b[0m     data \u001b[38;5;241m=\u001b[39m \u001b[38;5;28;43mself\u001b[39;49m\u001b[38;5;241;43m.\u001b[39;49m\u001b[43m_dataset_fetcher\u001b[49m\u001b[38;5;241;43m.\u001b[39;49m\u001b[43mfetch\u001b[49m\u001b[43m(\u001b[49m\u001b[43mindex\u001b[49m\u001b[43m)\u001b[49m  \u001b[38;5;66;03m# may raise StopIteration\u001b[39;00m\n\u001b[0;32m    672\u001b[0m     \u001b[38;5;28;01mif\u001b[39;00m \u001b[38;5;28mself\u001b[39m\u001b[38;5;241m.\u001b[39m_pin_memory:\n\u001b[0;32m    673\u001b[0m         data \u001b[38;5;241m=\u001b[39m _utils\u001b[38;5;241m.\u001b[39mpin_memory\u001b[38;5;241m.\u001b[39mpin_memory(data, \u001b[38;5;28mself\u001b[39m\u001b[38;5;241m.\u001b[39m_pin_memory_device)\n",
      "File \u001b[1;32m~\\.conda\\envs\\pyAA\\lib\\site-packages\\torch\\utils\\data\\_utils\\fetch.py:58\u001b[0m, in \u001b[0;36m_MapDatasetFetcher.fetch\u001b[1;34m(self, possibly_batched_index)\u001b[0m\n\u001b[0;32m     56\u001b[0m         data \u001b[38;5;241m=\u001b[39m \u001b[38;5;28mself\u001b[39m\u001b[38;5;241m.\u001b[39mdataset\u001b[38;5;241m.\u001b[39m__getitems__(possibly_batched_index)\n\u001b[0;32m     57\u001b[0m     \u001b[38;5;28;01melse\u001b[39;00m:\n\u001b[1;32m---> 58\u001b[0m         data \u001b[38;5;241m=\u001b[39m [\u001b[38;5;28mself\u001b[39m\u001b[38;5;241m.\u001b[39mdataset[idx] \u001b[38;5;28;01mfor\u001b[39;00m idx \u001b[38;5;129;01min\u001b[39;00m possibly_batched_index]\n\u001b[0;32m     59\u001b[0m \u001b[38;5;28;01melse\u001b[39;00m:\n\u001b[0;32m     60\u001b[0m     data \u001b[38;5;241m=\u001b[39m \u001b[38;5;28mself\u001b[39m\u001b[38;5;241m.\u001b[39mdataset[possibly_batched_index]\n",
      "File \u001b[1;32m~\\.conda\\envs\\pyAA\\lib\\site-packages\\torch\\utils\\data\\_utils\\fetch.py:58\u001b[0m, in \u001b[0;36m<listcomp>\u001b[1;34m(.0)\u001b[0m\n\u001b[0;32m     56\u001b[0m         data \u001b[38;5;241m=\u001b[39m \u001b[38;5;28mself\u001b[39m\u001b[38;5;241m.\u001b[39mdataset\u001b[38;5;241m.\u001b[39m__getitems__(possibly_batched_index)\n\u001b[0;32m     57\u001b[0m     \u001b[38;5;28;01melse\u001b[39;00m:\n\u001b[1;32m---> 58\u001b[0m         data \u001b[38;5;241m=\u001b[39m [\u001b[38;5;28;43mself\u001b[39;49m\u001b[38;5;241;43m.\u001b[39;49m\u001b[43mdataset\u001b[49m\u001b[43m[\u001b[49m\u001b[43midx\u001b[49m\u001b[43m]\u001b[49m \u001b[38;5;28;01mfor\u001b[39;00m idx \u001b[38;5;129;01min\u001b[39;00m possibly_batched_index]\n\u001b[0;32m     59\u001b[0m \u001b[38;5;28;01melse\u001b[39;00m:\n\u001b[0;32m     60\u001b[0m     data \u001b[38;5;241m=\u001b[39m \u001b[38;5;28mself\u001b[39m\u001b[38;5;241m.\u001b[39mdataset[possibly_batched_index]\n",
      "File \u001b[1;32m~\\.conda\\envs\\pyAA\\lib\\site-packages\\torchvision\\datasets\\mnist.py:145\u001b[0m, in \u001b[0;36mMNIST.__getitem__\u001b[1;34m(self, index)\u001b[0m\n\u001b[0;32m    142\u001b[0m img \u001b[38;5;241m=\u001b[39m Image\u001b[38;5;241m.\u001b[39mfromarray(img\u001b[38;5;241m.\u001b[39mnumpy(), mode\u001b[38;5;241m=\u001b[39m\u001b[38;5;124m\"\u001b[39m\u001b[38;5;124mL\u001b[39m\u001b[38;5;124m\"\u001b[39m)\n\u001b[0;32m    144\u001b[0m \u001b[38;5;28;01mif\u001b[39;00m \u001b[38;5;28mself\u001b[39m\u001b[38;5;241m.\u001b[39mtransform \u001b[38;5;129;01mis\u001b[39;00m \u001b[38;5;129;01mnot\u001b[39;00m \u001b[38;5;28;01mNone\u001b[39;00m:\n\u001b[1;32m--> 145\u001b[0m     img \u001b[38;5;241m=\u001b[39m \u001b[38;5;28;43mself\u001b[39;49m\u001b[38;5;241;43m.\u001b[39;49m\u001b[43mtransform\u001b[49m\u001b[43m(\u001b[49m\u001b[43mimg\u001b[49m\u001b[43m)\u001b[49m\n\u001b[0;32m    147\u001b[0m \u001b[38;5;28;01mif\u001b[39;00m \u001b[38;5;28mself\u001b[39m\u001b[38;5;241m.\u001b[39mtarget_transform \u001b[38;5;129;01mis\u001b[39;00m \u001b[38;5;129;01mnot\u001b[39;00m \u001b[38;5;28;01mNone\u001b[39;00m:\n\u001b[0;32m    148\u001b[0m     target \u001b[38;5;241m=\u001b[39m \u001b[38;5;28mself\u001b[39m\u001b[38;5;241m.\u001b[39mtarget_transform(target)\n",
      "File \u001b[1;32m~\\.conda\\envs\\pyAA\\lib\\site-packages\\torchvision\\transforms\\transforms.py:93\u001b[0m, in \u001b[0;36mCompose.__call__\u001b[1;34m(self, img)\u001b[0m\n\u001b[0;32m     90\u001b[0m         _log_api_usage_once(\u001b[38;5;28mself\u001b[39m)\n\u001b[0;32m     91\u001b[0m     \u001b[38;5;28mself\u001b[39m\u001b[38;5;241m.\u001b[39mtransforms \u001b[38;5;241m=\u001b[39m transforms\n\u001b[1;32m---> 93\u001b[0m \u001b[38;5;28;01mdef\u001b[39;00m \u001b[38;5;21m__call__\u001b[39m(\u001b[38;5;28mself\u001b[39m, img):\n\u001b[0;32m     94\u001b[0m     \u001b[38;5;28;01mfor\u001b[39;00m t \u001b[38;5;129;01min\u001b[39;00m \u001b[38;5;28mself\u001b[39m\u001b[38;5;241m.\u001b[39mtransforms:\n\u001b[0;32m     95\u001b[0m         img \u001b[38;5;241m=\u001b[39m t(img)\n",
      "\u001b[1;31mKeyboardInterrupt\u001b[0m: "
     ]
    }
   ],
   "source": [
    "torch.manual_seed(33)\n",
    "\n",
    "# Ens permet emprar l'entorn de cuda. El podem activar a \"Entorno de ejecución\"\n",
    "use_cuda = False\n",
    "if use_cuda:\n",
    "    device = torch.device(\"cuda\")\n",
    "else:\n",
    "    device = torch.device(\"cpu\")\n",
    "\n",
    "# Paràmetres bàsics\n",
    "epochs = 50\n",
    "lr =  0.01 \n",
    "\n",
    "model = Net().to(device)\n",
    "\n",
    "# Stochastic gradient descent\n",
    "optimizer = optim.SGD(model.parameters(), lr=lr) #momentum\n",
    "\n",
    "# Guardam el valor de pèrdua mig de cada època, per fer el gràfic final\n",
    "train_l = np.zeros((epochs))\n",
    "test_l = np.zeros((epochs))\n",
    "\n",
    "# Bucle d'entrenament\n",
    "for epoch in range(0, epochs):\n",
    "    train_l[epoch] = train(model, device, train_loader, optimizer, epoch)\n",
    "    test_l[epoch]  = test(model, device, test_loader)\n"
   ]
  },
  {
   "cell_type": "code",
   "execution_count": null,
   "metadata": {
    "id": "UFy6vECD8Pbq"
   },
   "outputs": [],
   "source": [
    "plt.title(\"Resultats de l'entrenament\")\n",
    "plt.plot(range(1, (epochs + 1)), train_l,  c=\"red\", label=\"train\")\n",
    "plt.plot(range(1,  (epochs + 1)), test_l,  c=\"green\", label=\"test\")\n",
    "plt.legend();"
   ]
  },
  {
   "cell_type": "markdown",
   "metadata": {
    "id": "z5gFpefdQF6_"
   },
   "source": [
    "## SVM\n",
    "\n",
    "La pregunta és: Ho podem fer millor que una SVM lineal?\n",
    "\n",
    "### Preparació de les dades\n",
    "\n",
    "Aprofitam el dataset de _Pytorch_ per assegurar que volem resoldre el mateix problema."
   ]
  },
  {
   "cell_type": "code",
   "execution_count": null,
   "metadata": {
    "id": "ibF2ACMMO0O4"
   },
   "outputs": [],
   "source": [
    "from sklearn.model_selection import GridSearchCV\n",
    "from sklearn import svm\n",
    "from sklearn.svm import LinearSVC\n",
    "from sklearn.decomposition import PCA\n",
    "from sklearn.metrics import accuracy_score"
   ]
  },
  {
   "cell_type": "markdown",
   "metadata": {
    "id": "MjsxBaul0kCr"
   },
   "source": [
    "Transformam els tensors en matrius i donam el format adient:"
   ]
  },
  {
   "cell_type": "code",
   "execution_count": null,
   "metadata": {
    "colab": {
     "base_uri": "https://localhost:8080/"
    },
    "id": "SYKUppOc_4JE",
    "outputId": "460e9e7e-e306-4856-ad44-56299c940acc"
   },
   "outputs": [
    {
     "name": "stdout",
     "output_type": "stream",
     "text": [
      "(60000, 784) (10000, 784)\n",
      "(60000,) (10000,)\n"
     ]
    }
   ],
   "source": [
    "train_np = train.data.numpy()\n",
    "test_np = test.data.numpy()\n",
    "\n",
    "X_train = train_np.reshape((train_np.shape[0], train_np.shape[1]*train_np.shape[2]))\n",
    "y_train = train.targets.numpy()\n",
    "X_test = test_np.reshape((test_np.shape[0], test_np.shape[1]*test_np.shape[2]))\n",
    "y_test = test.targets.numpy()\n",
    "\n",
    "print(X_train.shape, X_test.shape)\n",
    "print(y_train.shape, y_test.shape)"
   ]
  },
  {
   "cell_type": "markdown",
   "metadata": {
    "id": "D7uBkmemuh-4"
   },
   "source": [
    "La dimensionalitat és molt gran i no podriem resoldre el problema en un temps raonable, aplicarem un PCA per reduïr les característiques:"
   ]
  },
  {
   "cell_type": "code",
   "execution_count": null,
   "metadata": {
    "colab": {
     "base_uri": "https://localhost:8080/",
     "height": 314
    },
    "id": "wYdM6Ctyu6EZ",
    "outputId": "cfa56866-90b2-445f-df9d-36a4dfcccae4"
   },
   "outputs": [
    {
     "name": "stdout",
     "output_type": "stream",
     "text": [
      "(60000, 187)\n",
      "(10000, 187)\n"
     ]
    },
    {
     "data": {
      "image/png": "[encoded data removed]",
      "text/plain": [
       "<Figure size 432x288 with 1 Axes>"
      ]
     },
     "metadata": {
      "needs_background": "light"
     },
     "output_type": "display_data"
    }
   ],
   "source": [
    "pca = PCA().fit(X_train)\n",
    "plt.figure()\n",
    "plt.plot(np.cumsum(pca.explained_variance_ratio_))\n",
    "plt.xlabel('number of components')\n",
    "plt.ylabel('cumulative explained variance')\n",
    "\n",
    "pca = PCA(0.95, whiten=True)\n",
    "X_train_pca = pca.fit_transform(X_train)\n",
    "X_test_pca = pca.transform(X_test)\n",
    "print(X_train_pca.shape)\n",
    "print(X_test_pca.shape)"
   ]
  },
  {
   "cell_type": "markdown",
   "metadata": {
    "id": "Vi901yuW00NY"
   },
   "source": [
    "Realitzam l'entrenament:\n",
    "\n",
    "**Nota**: La cerca de paràmetres no és massa adient...."
   ]
  },
  {
   "cell_type": "code",
   "execution_count": null,
   "metadata": {
    "id": "D12v8YdlOyRc"
   },
   "outputs": [],
   "source": [
    "parameters = { 'C':[1]}\n",
    "svc = LinearSVC(max_iter=1500)\n",
    "clf = GridSearchCV(svc, parameters)\n",
    "clf.fit(X_train_pca, y_train)\n",
    "y_predict = clf.predict(X_test_pca)"
   ]
  },
  {
   "cell_type": "markdown",
   "metadata": {
    "id": "k1-9HBkZ0_hB"
   },
   "source": [
    "Per poder fer comparacions directes mostram la mateixa mètrica que amb la xarxa:"
   ]
  },
  {
   "cell_type": "code",
   "execution_count": null,
   "metadata": {
    "colab": {
     "base_uri": "https://localhost:8080/"
    },
    "id": "JIiWWoC3QCp8",
    "outputId": "be107954-402d-4023-b456-9bdd92ecdf26"
   },
   "outputs": [
    {
     "name": "stdout",
     "output_type": "stream",
     "text": [
      "0.8396\n"
     ]
    }
   ],
   "source": [
    "p = accuracy_score(y_predict, y_test)\n",
    "print(p)"
   ]
  }
 ],
 "metadata": {
  "colab": {
   "collapsed_sections": [],
   "provenance": []
  },
  "gpuClass": "standard",
  "kernelspec": {
   "display_name": "Python 3 (ipykernel)",
   "language": "python",
   "name": "python3"
  },
  "language_info": {
   "codemirror_mode": {
    "name": "ipython",
    "version": 3
   },
   "file_extension": ".py",
   "mimetype": "text/x-python",
   "name": "python",
   "nbconvert_exporter": "python",
   "pygments_lexer": "ipython3",
   "version": "3.10.4"
  }
 },
 "nbformat": 4,
 "nbformat_minor": 1
}
